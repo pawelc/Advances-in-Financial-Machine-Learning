{
  "nbformat": 4,
  "nbformat_minor": 0,
  "metadata": {
    "colab": {
      "provenance": [],
      "collapsed_sections": [],
      "authorship_tag": "ABX9TyNbnOImjd93qHlvqmxZHUnY",
      "include_colab_link": true
    },
    "kernelspec": {
      "name": "python3",
      "display_name": "Python 3"
    },
    "language_info": {
      "name": "python"
    }
  },
  "cells": [
    {
      "cell_type": "markdown",
      "metadata": {
        "id": "view-in-github",
        "colab_type": "text"
      },
      "source": [
        "<a href=\"https://colab.research.google.com/github/pawelc/Advances-in-Financial-Machine-Learning/blob/main/Chapter_2_Financial_Data_Structures.ipynb\" target=\"_parent\"><img src=\"https://colab.research.google.com/assets/colab-badge.svg\" alt=\"Open In Colab\"/></a>"
      ]
    },
    {
      "cell_type": "code",
      "execution_count": 30,
      "metadata": {
        "id": "wb-1TvkYRZXM"
      },
      "outputs": [],
      "source": [
        "import numpy as np\n",
        "from IPython import display"
      ]
    },
    {
      "cell_type": "code",
      "source": [
        "def pcaWeights(cov, riskDist=None, riskTarget = 1.):\n",
        "  eVal, eVec = np.linalg.eigh(covariance)\n",
        "  print(f\"eVal=\\n{eVal}\") \n",
        "  print(f\"eVec=\\n{eVec}\") \n",
        "  indices = eVal.argsort()[::-1]\n",
        "  print(f\"indices=\\n{indices}\") \n",
        "  eVal, eVec = eVal[indices], eVec[:,indices]\n",
        "  print(f\"sorted eVal=\\n{eVal}\") \n",
        "  print(f\"sorted eVec=\\n{eVec}\")\n",
        "  if riskDist is None:\n",
        "    riskDist = np.zeros(covariance.shape[0])\n",
        "    riskDist[-1] = 1.0\n",
        "  loads = riskTarget*(riskDist/eVal)**.5\n",
        "  wghts = np.dot(eVec, np.reshape(loads, (-1, 1)))\n",
        "  return wghts"
      ],
      "metadata": {
        "id": "OFvbxQbTaLWU"
      },
      "execution_count": 56,
      "outputs": []
    },
    {
      "cell_type": "code",
      "source": [
        "from numpy.matrixlib.defmatrix import N\n",
        "np.random.seed(200)\n",
        "dim = 4\n",
        "L = np.tril(np.random.normal(loc=0, scale=1, size=(dim,dim))) \n",
        "riskDist = None\n",
        "riskTarget = 1. \n",
        "\n",
        "print(f\"L=\\n{L}\") \n",
        "covariance = L @ L.transpose()\n",
        "print(f\"covariance=\\n{covariance}\") \n",
        "\n",
        "pcaWeights(covariance)"
      ],
      "metadata": {
        "colab": {
          "base_uri": "https://localhost:8080/"
        },
        "id": "_G1ZLfAaSz3K",
        "outputId": "efcc7842-8dc9-4580-b345-4f97270cf930"
      },
      "execution_count": 57,
      "outputs": [
        {
          "output_type": "stream",
          "name": "stdout",
          "text": [
            "L=\n",
            "[[-1.45094825  0.          0.          0.        ]\n",
            " [ 0.36146623 -0.03294967  0.          0.        ]\n",
            " [-0.69193937  0.79200593  0.07324913  0.        ]\n",
            " [ 0.21348149  1.01734895  1.91171178 -0.52967163]]\n",
            "covariance=\n",
            "[[ 2.10525082 -0.5244688   1.00396822 -0.30975059]\n",
            " [-0.5244688   0.13174352 -0.27620906  0.04364504]\n",
            " [ 1.00396822 -0.27620906  1.11141893  0.79806139]\n",
            " [-0.30975059  0.04364504  0.79806139  5.01576721]]\n",
            "eVal=\n",
            "[6.89211546e-07 3.38489771e-01 2.84873342e+00 5.17695659e+00]\n",
            "eVec=\n",
            "[[ 0.2222101  -0.49153754  0.8410908  -0.03974638]\n",
            " [ 0.974074    0.07486897 -0.21346571  0.00261995]\n",
            " [ 0.04242926  0.8491483   0.49367705  0.18283841]\n",
            " [-0.00150424 -0.17813657 -0.05728545  0.98233572]]\n",
            "indices=\n",
            "[3 2 1 0]\n",
            "sorted eVal=\n",
            "[5.17695659e+00 2.84873342e+00 3.38489771e-01 6.89211546e-07]\n",
            "sorted eVec=\n",
            "[[-0.03974638  0.8410908  -0.49153754  0.2222101 ]\n",
            " [ 0.00261995 -0.21346571  0.07486897  0.974074  ]\n",
            " [ 0.18283841  0.49367705  0.8491483   0.04242926]\n",
            " [ 0.98233572 -0.05728545 -0.17813657 -0.00150424]]\n"
          ]
        },
        {
          "output_type": "execute_result",
          "data": {
            "text/plain": [
              "array([[ 267.66250132],\n",
              "       [1173.31785754],\n",
              "       [  51.10803731],\n",
              "       [  -1.81193314]])"
            ]
          },
          "metadata": {},
          "execution_count": 57
        }
      ]
    },
    {
      "cell_type": "code",
      "source": [
        "np.arange(10)[::-1]"
      ],
      "metadata": {
        "colab": {
          "base_uri": "https://localhost:8080/"
        },
        "id": "ka-68dyFW_bT",
        "outputId": "a32f55d9-5682-49ce-cb3e-4f0d19981504"
      },
      "execution_count": 53,
      "outputs": [
        {
          "output_type": "execute_result",
          "data": {
            "text/plain": [
              "array([9, 8, 7, 6, 5, 4, 3, 2, 1, 0])"
            ]
          },
          "metadata": {},
          "execution_count": 53
        }
      ]
    }
  ]
}